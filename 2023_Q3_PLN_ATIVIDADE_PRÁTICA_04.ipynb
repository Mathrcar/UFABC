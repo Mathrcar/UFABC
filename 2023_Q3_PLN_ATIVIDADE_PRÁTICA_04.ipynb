{
  "nbformat": 4,
  "nbformat_minor": 0,
  "metadata": {
    "colab": {
      "provenance": [],
      "include_colab_link": true
    },
    "kernelspec": {
      "name": "python3",
      "display_name": "Python 3"
    }
  },
  "cells": [
    {
      "cell_type": "markdown",
      "metadata": {
        "id": "view-in-github",
        "colab_type": "text"
      },
      "source": [
        "<a href=\"https://colab.research.google.com/github/Mathrcar/UFABC/blob/main/2023_Q3_PLN_ATIVIDADE_PR%C3%81TICA_04.ipynb\" target=\"_parent\"><img src=\"https://colab.research.google.com/assets/colab-badge.svg\" alt=\"Open In Colab\"/></a>"
      ]
    },
    {
      "cell_type": "markdown",
      "metadata": {
        "id": "Y6QILOdpOjwv"
      },
      "source": [
        "# **Processamento de Linguagem Natural [2023.Q3]**\n",
        "Prof. Alexandre Donizeti Alves"
      ]
    },
    {
      "cell_type": "markdown",
      "metadata": {
        "id": "8m67OOx9MX_3"
      },
      "source": [
        "### **ATIVIDADE PRÁTICA 04 [Uso da API da OpenAI com técnicas de PLN]**\n"
      ]
    },
    {
      "cell_type": "markdown",
      "metadata": {
        "id": "5Gk0nHKabBT-"
      },
      "source": [
        "A **ATIVIDADE PRÁTICA 04** deve ser feita utilizando o **Google Colab** com uma conta sua vinculada ao Gmail. O link do seu notebook, armazenado no Google Drive, além do link de um repositório no GitHub e os principais resultados da atividade, devem ser enviados usando o seguinte formulário:\n",
        "\n",
        "> https://forms.gle/GzwCq3R7ExtE9g9a8\n",
        "\n",
        "\n",
        "**IMPORTANTE**: A submissão deve ser feita até o dia 20/11 (segunda-feira) APENAS POR UM INTEGRANTE DA EQUIPE, até às 23h59. Por favor, lembre-se de dar permissão de ACESSO IRRESTRITO para o professor da disciplina de PLN."
      ]
    },
    {
      "cell_type": "markdown",
      "metadata": {
        "id": "D7hJlilKM485"
      },
      "source": [
        "### **EQUIPE**\n",
        "\n",
        "---"
      ]
    },
    {
      "cell_type": "markdown",
      "source": [
        "**POR FAVOR, PREENCHER OS INTEGRANDES DA SUA EQUIPE:**\n",
        "\n",
        "\n",
        "**Integrante 01:**\n",
        "\n",
        "`Matheus Rocha Cardoso 11201721651`\n",
        "\n",
        "**Integrante 02:**\n",
        "\n",
        "`André Faria Guardão 11201721895`\n",
        "\n"
      ],
      "metadata": {
        "id": "tnIArN0QY-Ek"
      }
    },
    {
      "cell_type": "markdown",
      "source": [
        "### **LIVRO**\n",
        "---"
      ],
      "metadata": {
        "id": "6yExhaebs-nD"
      }
    },
    {
      "cell_type": "markdown",
      "source": [
        "`Processamento de Linguagem Natural - Conceitos, Técnicas e Aplicações em Português.`\n",
        "\n",
        ">\n",
        "\n",
        "Disponível gratuitamente em:\n",
        "  \n",
        "  > https://brasileiraspln.com/livro-pln/1a-edicao/.\n",
        "\n",
        "\n",
        "**POR FAVOR, PREENCHER OS CAPITULOS SELECIONADOS PARA A SUA EQUIPE:**\n",
        "\n",
        "Primeiro capítulo: 6\n",
        "\n",
        "Segundo capítulo: 20\n",
        "\n"
      ],
      "metadata": {
        "id": "DjJM_qhEZRy6"
      }
    },
    {
      "cell_type": "markdown",
      "metadata": {
        "id": "EtjgWQRzNphL"
      },
      "source": [
        "### **DESCRIÇÃO**\n",
        "---"
      ]
    },
    {
      "cell_type": "markdown",
      "source": [
        "Implementar um `notebook` no `Google Colab` que faça uso da **API da OpenAI** aplicando, no mínimo, 3 técnicas de PLN. As técnicas devem ser aplicadas nos 2 (DOIS) capítulos do livro **Processamento de Linguagem Natural - Conceitos, Técnicas e Aplicações em Português**.\n",
        "\n",
        ">\n",
        "\n",
        "**RESTRIÇÃO**: É obrigatório usar o *endpoint* \"*`Chat Completions`*\".\n",
        "\n",
        ">\n",
        "\n",
        "As seguintes técnicas de PLN podem ser usadas:\n",
        "\n",
        "*   Correção Gramatical\n",
        "*   Classificação de Textos\n",
        "*   Análise de Sentimentos\n",
        "*   Detecção de Emoções\n",
        "*   Extração de Palavras-chave\n",
        "*   Tradução de Textos\n",
        "*   Sumarização de Textos\n",
        "*   **Similaridade de Textos**\n",
        "*   **Reconhecimento de Entidades Nomeadas**\n",
        "*   **Sistemas de Perguntas e Respostas**\n",
        "\n",
        ">\n",
        "\n",
        "Os capítulos devem ser os mesmos selecionados na **ATIVIDADE PRÁTICA 02**. Para consultar os capítulos, considere a seguinte planilha:\n",
        "\n",
        ">\n",
        "\n",
        "> https://docs.google.com/spreadsheets/d/1ZutzQ3v1OJgsgzCvCwxXlRIQ3ChXNlHNvB63JQvYsbo/edit?usp=sharing\n",
        "\n",
        ">\n",
        ">\n",
        "\n",
        "**IMPORTANTE:** É obrigatório usar o e-mail da UFABC. Não é permitido alterar os capítulos já selecionados.\n",
        "\n"
      ],
      "metadata": {
        "id": "fXTwkiiGs2BV"
      }
    },
    {
      "cell_type": "markdown",
      "source": [
        "### **CRITÉRIOS DE AVALIAÇÃO**\n",
        "---\n"
      ],
      "metadata": {
        "id": "gWsBYQNtxmum"
      }
    },
    {
      "cell_type": "markdown",
      "source": [
        "Serão considerados como critérios de avaliação as técnicas usadas e a criatividade envolvida na aplicação das mesmas.\n",
        "\n",
        "\n"
      ],
      "metadata": {
        "id": "5iHdx4BXYruQ"
      }
    },
    {
      "cell_type": "markdown",
      "source": [
        "### **IMPLEMENTAÇÃO**\n",
        "---"
      ],
      "metadata": {
        "id": "nw09lujGvfjc"
      }
    },
    {
      "cell_type": "markdown",
      "source": [
        "## Instalação da LIB"
      ],
      "metadata": {
        "id": "dag-jKTSFr8h"
      }
    },
    {
      "cell_type": "code",
      "source": [
        "# por favor, inserir o código a partir daqui...\n",
        "!pip install openai"
      ],
      "metadata": {
        "id": "RyUailD5vi9E",
        "colab": {
          "base_uri": "https://localhost:8080/"
        },
        "outputId": "a64b9d5b-9312-42de-d2b2-9dcd477b29c5"
      },
      "execution_count": 2,
      "outputs": [
        {
          "output_type": "stream",
          "name": "stdout",
          "text": [
            "Requirement already satisfied: openai in /usr/local/lib/python3.10/dist-packages (0.28.1)\n",
            "Requirement already satisfied: requests>=2.20 in /usr/local/lib/python3.10/dist-packages (from openai) (2.31.0)\n",
            "Requirement already satisfied: tqdm in /usr/local/lib/python3.10/dist-packages (from openai) (4.66.1)\n",
            "Requirement already satisfied: aiohttp in /usr/local/lib/python3.10/dist-packages (from openai) (3.8.6)\n",
            "Requirement already satisfied: charset-normalizer<4,>=2 in /usr/local/lib/python3.10/dist-packages (from requests>=2.20->openai) (3.3.2)\n",
            "Requirement already satisfied: idna<4,>=2.5 in /usr/local/lib/python3.10/dist-packages (from requests>=2.20->openai) (3.4)\n",
            "Requirement already satisfied: urllib3<3,>=1.21.1 in /usr/local/lib/python3.10/dist-packages (from requests>=2.20->openai) (2.0.7)\n",
            "Requirement already satisfied: certifi>=2017.4.17 in /usr/local/lib/python3.10/dist-packages (from requests>=2.20->openai) (2023.7.22)\n",
            "Requirement already satisfied: attrs>=17.3.0 in /usr/local/lib/python3.10/dist-packages (from aiohttp->openai) (23.1.0)\n",
            "Requirement already satisfied: multidict<7.0,>=4.5 in /usr/local/lib/python3.10/dist-packages (from aiohttp->openai) (6.0.4)\n",
            "Requirement already satisfied: async-timeout<5.0,>=4.0.0a3 in /usr/local/lib/python3.10/dist-packages (from aiohttp->openai) (4.0.3)\n",
            "Requirement already satisfied: yarl<2.0,>=1.0 in /usr/local/lib/python3.10/dist-packages (from aiohttp->openai) (1.9.2)\n",
            "Requirement already satisfied: frozenlist>=1.1.1 in /usr/local/lib/python3.10/dist-packages (from aiohttp->openai) (1.4.0)\n",
            "Requirement already satisfied: aiosignal>=1.1.2 in /usr/local/lib/python3.10/dist-packages (from aiohttp->openai) (1.3.1)\n"
          ]
        }
      ]
    },
    {
      "cell_type": "markdown",
      "source": [
        "## Import LIBs"
      ],
      "metadata": {
        "id": "5Uzr2h52FwGs"
      }
    },
    {
      "cell_type": "code",
      "source": [
        "import openai\n",
        "import os\n",
        "from google.colab import userdata\n",
        "import requests\n",
        "from bs4 import BeautifulSoup\n",
        "import html"
      ],
      "metadata": {
        "id": "k6QkUqjJ-uxH"
      },
      "execution_count": 4,
      "outputs": []
    },
    {
      "cell_type": "code",
      "source": [
        "def formatar_saida(saida):\n",
        "   return re.sub(r'^\\s+', '', saida)"
      ],
      "metadata": {
        "id": "mr9zncX9LfV2"
      },
      "execution_count": 5,
      "outputs": []
    },
    {
      "cell_type": "code",
      "source": [
        "openai.api_key = userdata.get('openaiKey')"
      ],
      "metadata": {
        "id": "8aLN7Wm6-y27"
      },
      "execution_count": 6,
      "outputs": []
    },
    {
      "cell_type": "code",
      "source": [
        "# URL da página web que você deseja extrair o texto\n",
        "url_cap_6 = 'https://brasileiraspln.com/livro-pln/1a-edicao/parte4/cap6/cap6.html#sec-cap6-introducao'\n",
        "url_cap_20 = 'https://brasileiraspln.com/livro-pln/1a-edicao/parte8/cap20/cap20.html'\n",
        "urls = [url_cap_6,url_cap_20]\n",
        "texto_saida = []\n",
        "\n",
        "for url in urls:\n",
        "  # Realiza uma solicitação GET para obter o conteúdo da página\n",
        "  response = requests.get(url)\n",
        "\n",
        "  # Verifica se a solicitação foi bem-sucedida\n",
        "  if response.status_code == 200:\n",
        "      # Parseia o conteúdo HTML da página usando BeautifulSoup\n",
        "      soup = BeautifulSoup(response.content, 'html.parser')\n",
        "\n",
        "      # Extrai o texto do HTML\n",
        "      texto = soup.get_text()\n",
        "\n",
        "      # Decodifica caracteres especiais, como entidades HTML\n",
        "      #texto_decodificado = html.unescape(texto)\n",
        "\n",
        "      texto_saida.append(html.unescape(texto))\n",
        "\n",
        "  else:\n",
        "      print(f'Falha na solicitação. Código de status: {response.status_code}')\n",
        "\n",
        "#imprime o texto de saida\n",
        "#print(texto_saida[1])"
      ],
      "metadata": {
        "id": "dEXwY7h1FQfD"
      },
      "execution_count": 7,
      "outputs": []
    },
    {
      "cell_type": "code",
      "source": [
        "texto_final = []\n",
        "for i in range(0,2):\n",
        "  texto_final.append(texto_saida[i].replace('\\n\\n\\n\\n\\n\\n\\n\\nProcessamento de Linguagem Natural - 6\\xa0 A ordem e a função das palavras em uma sentença\\n\\n\\n\\n\\n\\n\\n\\n\\n\\n\\n\\n\\n\\n\\n\\n\\n\\n\\n\\n\\n\\n\\n\\n\\n\\n\\n\\n\\n\\n\\n\\n\\n\\nEstrutura6\\xa0 A ordem e a função das palavras em uma sentença\\n\\n\\n\\n\\n\\n\\n\\n\\n\\n\\n\\n\\n\\n\\n\\n\\n\\nProcessamento de Linguagem Natural\\n\\n\\n\\n\\n\\n\\n\\n\\n            Twitter\\n            \\n\\n\\n\\n\\n            LinkedIn\\n            \\n\\n\\n\\n\\n\\n\\n\\n\\n\\n\\n\\n\\n\\n\\n\\n\\nSobre este livro\\n\\n\\n\\n\\n\\nPrefácio\\n\\n\\n\\n\\n\\nComo ler este livro\\n\\n\\n\\n\\n\\nIntrodução\\n\\n\\n\\n\\n\\n\\n\\n\\n1\\xa0 O que é PLN?\\n\\n\\n\\n\\n\\n\\n\\nFala\\n\\n\\n\\n\\n\\n\\n\\n\\n2\\xa0 Texto ou fala?\\n\\n\\n\\n\\n\\n3\\xa0 Recursos para o processamento de fala\\n\\n\\n\\n\\n\\n\\n\\nPalavras\\n\\n\\n\\n\\n\\n\\n\\n\\n4\\xa0 Sequência de caracteres e palavras\\n\\n\\n\\n\\n\\n5\\xa0 Expressões multipalavras\\n\\n\\n\\n\\n\\n\\n\\nEstrutura\\n\\n\\n\\n\\n\\n\\n\\n\\n6\\xa0 A ordem e a função das palavras em uma sentença\\n\\n\\n\\n\\n\\n7\\xa0 Ferramentas e recursos para o processamento sintático\\n\\n\\n\\n\\n\\n\\n\\nSignificado\\n\\n\\n\\n\\n\\n\\n\\n\\n8\\xa0 E o significado?\\n\\n\\n\\n\\n\\n9\\xa0 Semântica com Técnicas Simbólicas\\n\\n\\n\\n\\n\\n10\\xa0 Semântica Distribucional\\n\\n\\n\\n\\n\\n\\n\\nDiscurso\\n\\n\\n\\n\\n\\n\\n\\n\\n11\\xa0 Modelos discursivos\\n\\n\\n\\n\\n\\n12\\xa0 Resolução de Correferência\\n\\n\\n\\n\\n\\n13\\xa0 Pragmática\\n\\n\\n\\n\\n\\n\\n\\nDados e Modelos\\n\\n\\n\\n\\n\\n\\n\\n\\n14\\xa0 Dataset e corpus\\n\\n\\n\\n\\n\\n15\\xa0 Modelos de Linguagem\\n\\n\\n\\n\\n\\n\\n\\nAplicações\\n\\n\\n\\n\\n\\n\\n\\n\\n16\\xa0 Recuperação de Informação\\n\\n\\n\\n\\n\\n17\\xa0 Extração de Informação\\n\\n\\n\\n\\n\\n18\\xa0 Tradução Automática\\n\\n\\n\\n\\n\\n19\\xa0 Correção automática de redação\\n\\n\\n\\n\\n\\n20\\xa0 ChatGPT, MariTalk e outros agentes de conversação\\n\\n\\n\\n\\n\\n\\n\\nDomínios\\n\\n\\n\\n\\n\\n\\n\\n\\n21\\xa0 PLN na Saúde\\n\\n\\n\\n\\n\\n22\\xa0 PLN no Direito\\n\\n\\n\\n\\n\\n23\\xa0 PLN em Redes Sociais\\n\\n\\n\\n\\n\\n\\n\\nSociedade\\n\\n\\n\\n\\n\\n\\n\\n\\n24\\xa0 Questões éticas em IA e PLN\\n\\n\\n\\n\\n\\n25\\xa0 E agora, PLN?\\n\\n\\n\\n\\n\\n\\n\\nReferências\\n\\n\\n\\n\\n\\nApêndice 1 (Capítulo 2)\\n\\n\\n\\n\\n\\nSobre as/os autoras/es\\n\\n\\n\\n\\n\\n\\n\\n\\n\\nConteúdo\\n\\n6.1 Introdução\\n6.2 Reflexões Iniciais\\n6.3 Noções Básicas de Sintaxe\\n6.4 Tipos de representação\\n\\n6.4.1 Colchetes\\n6.4.2 Árvores\\n6.4.3 Setas\\n6.4.4 Parênteses\\n6.4.5 Indentação\\n\\n6.5 Sintaxe de constituência\\n\\n6.5.1 Possibilidades de interpretação e ambiguidades sintáticas\\n\\n6.6 Sintaxe de dependência\\n\\n6.6.1 Núcleo e dependente\\n6.6.2 A representação da sintaxe de dependência\\n6.6.3 Projetos de anotação multilingue: Universal Dependencies\\n\\n6.7 Qual é melhor: constituência ou dependência?\\n6.8 Fronteiras da sintaxe\\n\\n6.8.1 Sintaxe e Morfologia\\n6.8.2 Sintaxe e Semântica\\n6.8.3 Sintaxe e Pragmática\\n6.8.4 Sintaxe e Discurso\\n\\n6.9 Considerações finais\\n\\n\\n\\n\\n\\n\\n\\n6\\xa0 A ordem e a função das palavras em uma sentença\\nSintaxe\\n\\n\\n\\n\\n\\nAdriana S Pagano \\nAmanda Rassi \\nAna Clara S Pagano \\n\\n\\n\\nPublicado em:\\n\\n26/09/2023\\n\\n\\n\\n\\nPDF\\n\\n6.1 ','')[0:4090])"
      ],
      "metadata": {
        "id": "dYlvIf7bXoRB"
      },
      "execution_count": 40,
      "outputs": []
    },
    {
      "cell_type": "code",
      "source": [
        "prompt1 = 'Leia o texto após os dois pontos, e faça um resumo completo do conteúdo: '"
      ],
      "metadata": {
        "id": "xVsh1x4nGvZd"
      },
      "execution_count": 41,
      "outputs": []
    },
    {
      "cell_type": "code",
      "source": [
        "prompt2 = 'Leia o texto após os dois pontos, e aponte erros gramaticais presentes no se houver: '"
      ],
      "metadata": {
        "id": "3SojqL-HXUgj"
      },
      "execution_count": 42,
      "outputs": []
    },
    {
      "cell_type": "code",
      "source": [
        "prompt3 = 'Leia o texto após os dois pontos, e faça a tradução do resumo do texto para o inglês: '"
      ],
      "metadata": {
        "id": "GCtK2NlRYCOP"
      },
      "execution_count": 43,
      "outputs": []
    },
    {
      "cell_type": "code",
      "source": [
        "prompts = []\n",
        "prompts.append(prompt1)\n",
        "prompts.append(prompt2)\n",
        "prompts.append(prompt3)\n"
      ],
      "metadata": {
        "id": "JToYH7-qYara"
      },
      "execution_count": 44,
      "outputs": []
    },
    {
      "cell_type": "code",
      "source": [
        " p=1\n",
        " for i in texto_final:\n",
        "\n",
        "  for k in prompts:\n",
        "\n",
        "    print(f'PROMPT {p}')\n",
        "    messages = [{\"role\": \"system\", \"content\": \"You are a kind helpful assistant.\"}]\n",
        "    messages.append({\"role\": \"user\", \"content\": k+i})\n",
        "    chat = openai.ChatCompletion.create(model=\"gpt-3.5-turbo\", messages=messages)\n",
        "\n",
        "    reply = chat.choices[0].message.content\n",
        "    print(f\"ChatGPT: {reply}\")\n",
        "    p=p+1\n",
        "  p=1"
      ],
      "metadata": {
        "colab": {
          "base_uri": "https://localhost:8080/",
          "height": 1000
        },
        "id": "x3qBsVuGNr19",
        "outputId": "c125a74c-2194-4387-cbc8-7cd2f2e28ad7"
      },
      "execution_count": 46,
      "outputs": [
        {
          "output_type": "stream",
          "name": "stdout",
          "text": [
            "PROMPT 1\n",
            "ChatGPT: Neste capítulo, o foco é na subárea da sintaxe nos estudos linguísticos. A sintaxe estuda a organização das palavras nas estruturas gramaticais da frase ou sentença. A sintaxe é central para o sistema linguístico, pois organiza funções gramaticais no nível da frase e fornece estruturas que são importantes para a semântica e a pragmática.\n",
            "\n",
            "A escala de ordens é uma forma de organização das unidades de análise, onde os morfemas são as menores unidades constitutivas das palavras, que se organizam em sintagmas, que por sua vez constroem funções na oração. A oração é uma unidade organizada de palavras que conferem significado a algum evento no mundo.\n",
            "\n",
            "Na língua escrita, uma unidade grafológica denominada \"sentença\" ou \"frase\" é utilizada, sendo caracterizada pelo uso de letra maiúscula inicial e sinal de pontuação que indica finalização. A distinção entre \"sentença\" e \"oração\" é importante no Processamento de Linguagem Natural (PLN), pois em uma sentença pode haver mais de uma oração.\n",
            "\n",
            "No capítulo, serão abordados os níveis da escala de ordens e sua relevância para a análise sintática. Serão apresentados exemplos para melhor entender o funcionamento das palavras nos diferentes tipos de sintagmas e nas orações. Também serão revisados conceitos básicos de análise sintática, bem como os tipos mais utilizados em PLN: a sintaxe de constituência e a sintaxe de dependência.\n",
            "\n",
            "Além disso, serão discutidas as intersecções entre a sintaxe e os outros estratos do sistema linguístico. Será mencionado o termo \"parsing\", que é o processo de analisar a estrutura das orações em PLN, baseando-se na classe de palavras das palavras. O \"parsing\" sintático é realizado por meio de softwares chamados parsers, que enfrentam desafios na delimitação de unidades e em suas relações hierárquicas.\n",
            "\n",
            "Será introduzido o conceito de \"treebank\", que é utilizado para armazenar sentenças e suas análises sintáticas em formato de árvore, sendo útil para treinamento de parsers e outras tarefas em PLN.\n",
            "PROMPT 2\n",
            "ChatGPT: Leia o texto após os dois pontos, e aponte erros gramaticais presentes no se houver: \n",
            "Introdução\n",
            "\n",
            "Nos capítulos anteriores, vimos algumas das unidades de análise que são examinadas nas distintas subáreas dos estudos linguísticos, cada uma das quais com desafios específicos para o PLN. Neste capítulo, nosso foco será uma subárea em particular – a sintaxe –, que estuda como as palavras se organizam nas estruturas que constroem as distintas funções gramaticais no escopo da frase ou sentença.\n",
            "\n",
            "Retomando nossa representação do estudo da linguagem (Figura 1.2 do Capítulo 1), podemos dizer que a sintaxe é um estrato/camada central do sistema linguístico (Figura 6.1), pois organiza funções no estrato imediatamente inferior – a morfologia – e fornece estruturas de funções que serão importantes nos estratos superiores – semântica e pragmática – para, por exemplo, identificar papéis temáticos cruciais na tarefa de extração de informação, os quais respondem as perguntas “quem?” faz “o quê?”, “para quem?”, “como?”, “quando?”, “onde?” etc.\n",
            "\n",
            "Figura 6.1: Representação das subáreas de estudo da linguagem com destaque para a sintaxe\n",
            "\n",
            "Ainda em relação ao sistema linguístico, além de sua organização em estratos, temos uma segunda forma de organização: a escala de ordens (em inglês, rank scale), que organiza diferentes unidades de análise em níveis hierárquicos. A escala de ordens está representada na Figura 6.2. Os morfemas são as menores unidades constitutivas das palavras, as quais, por sua vez, se organizam em estruturas chamadas sintagmas, que nos permitem construir funções na oração, tais como sujeito, objetos, adjuntos e complementos.\n",
            "\n",
            "Figura 6.2: Escala de ordens\n",
            "\n",
            "A escala de ordens abrange as unidades utilizadas para a descrição da língua, seja esta língua falada ou escrita. A unidade superior de análise – a oração – consiste em um conjunto organizado de palavras que constroem significados sobre algum evento no mundo, que, como dissemos, podemos indagar perguntando “quem?” faz “o quê?”, “para quem?”, “como?”, “quando?”, “onde?” etc.\n",
            "\n",
            "Na língua escrita, há uma unidade grafológica, geralmente denominada, em português, “sentença”, também conhecida como “frase” ou “período”. A “sentença” segue as convenções prototípicas da língua escrita, isto é, letra maiúscula inicial e sinal de pontuação que indica finalização, podendo ser este um ponto final, um sinal de interrogação ou de exclamação. A distinção entre “sentença” (em inglês, sentence) e “oração” (em inglês, clause) é muito importante em PLN, uma vez que em uma sentença (aquela que inicia com letra maiúscula e conclui com sinal de pontuação) pode haver mais de uma oração e, portanto, mais de um evento.\n",
            "\n",
            "Neste capítulo, vamos abordar os níveis da escala de ordens e sua relevância para a análise sintática. Para compreendermos melhor como as palavras funcionam nos distintos tipos de sintagma e os sintagmas na oração, apresentaremos exemplos que esperamos que sejam esclarecedores. Após uma seção de reflexões iniciais, revisaremos conceitos básicos sobre análise sintática, passando por tipos de representação, até chegarmos nos dois tipos de análise sintática mais utilizados em PLN: a sintaxe de constituinte e a sintaxe de dependência. Por último, abordaremos as intersecções entre a sintaxe e os demais estratos do sistema linguístico ao final deste capítulo, na Seção 6.8.\n",
            "\n",
            "Antes de passarmos para nossas reflexões iniciais sobre sintaxe, cabe mencionar que o processo de analisar a estrutura de orações em PLN é denominado “parsing”, termo tomado por empréstimo do inglês. O parsing sintático toma como base a classe de palavra (em inglês, part-of-speech) das distintas palavras que compõem os sintagmas. Como veremos no Capítulo 7, em PLN, a análise sintática automática é realizada por meio de softwares denominados parsers. Também veremos alguns desafios que a análise em constituintes sintáticos traz para os parsers já existentes, sobretudo em casos nos quais a delimitação de unidades e suas relações entre si na hierarquia da oração admitem mais de uma interpretação possível.\n",
            "\n",
            "Um outro termo que é importante introduzir neste momento é o conceito de treebank, que é utiliz\n",
            "PROMPT 3\n",
            "ChatGPT: Introduction:\n",
            "In the previous chapters, we have seen some of the units of analysis that are examined in different subareas of linguistic studies, each with specific challenges for NLP. In this chapter, our focus will be on a particular subarea - syntax - which studies how words are organized in structures that build different grammatical functions within the scope of a sentence.\n",
            "\n",
            "Returning to our representation of language study (Figure 1.2 from Chapter 1), we can say that syntax is a central layer/stratum of the linguistic system (Figure 6.1), as it organizes functions in the immediately lower stratum - morphology - and provides structures of functions that will be important in the higher strata - semantics and pragmatics - to, for example, identify crucial thematic roles in information extraction tasks, which answer questions like \"who?\" does \"what?\", \"to whom?\", \"how?\", \"when?\", \"where?\", etc.\n",
            "\n",
            "Summary of the text:\n",
            "In this chapter, the focus will be on syntax, which studies how words are organized in structures that build different grammatical functions within a sentence. Syntax is a central layer/stratum of the linguistic system, organizing functions in the lower stratum - morphology - and providing structures that are important in the higher strata - semantics and pragmatics. The scale of orders is another form of organization in the linguistic system, which organizes different units of analysis hierarchically. The scale of orders includes units used to describe spoken or written language, with the highest unit being the sentence, which consists of organized words that convey meanings about events in the world. In written language, there is a graphical unit, commonly known as a \"sentence,\" which follows the prototypical conventions of written language, with an initial capital letter and a punctuation mark indicating finalization. The distinction between \"sentence\" and \"clause\" is important in NLP, as a sentence can contain multiple clauses and events. In this chapter, different levels of the scale of orders and their relevance to syntactic analysis will be addressed, along with concepts and types of syntactic analysis used in NLP. Additionally, the intersections between syntax and the other strata of the linguistic system will be discussed. The process of analyzing the structure of sentences in NLP is called \"parsing,\" and it is based on the part-of-speech class of the words that make up the phrases. Treebank is another important term introduced, which is used\n",
            "PROMPT 1\n"
          ]
        },
        {
          "output_type": "error",
          "ename": "APIError",
          "evalue": "ignored",
          "traceback": [
            "\u001b[0;31m---------------------------------------------------------------------------\u001b[0m",
            "\u001b[0;31mAPIError\u001b[0m                                  Traceback (most recent call last)",
            "\u001b[0;32m<ipython-input-46-479f1cd01863>\u001b[0m in \u001b[0;36m<cell line: 2>\u001b[0;34m()\u001b[0m\n\u001b[1;32m      7\u001b[0m    \u001b[0mmessages\u001b[0m \u001b[0;34m=\u001b[0m \u001b[0;34m[\u001b[0m\u001b[0;34m{\u001b[0m\u001b[0;34m\"role\"\u001b[0m\u001b[0;34m:\u001b[0m \u001b[0;34m\"system\"\u001b[0m\u001b[0;34m,\u001b[0m \u001b[0;34m\"content\"\u001b[0m\u001b[0;34m:\u001b[0m \u001b[0;34m\"You are a kind helpful assistant.\"\u001b[0m\u001b[0;34m}\u001b[0m\u001b[0;34m]\u001b[0m\u001b[0;34m\u001b[0m\u001b[0;34m\u001b[0m\u001b[0m\n\u001b[1;32m      8\u001b[0m    \u001b[0mmessages\u001b[0m\u001b[0;34m.\u001b[0m\u001b[0mappend\u001b[0m\u001b[0;34m(\u001b[0m\u001b[0;34m{\u001b[0m\u001b[0;34m\"role\"\u001b[0m\u001b[0;34m:\u001b[0m \u001b[0;34m\"user\"\u001b[0m\u001b[0;34m,\u001b[0m \u001b[0;34m\"content\"\u001b[0m\u001b[0;34m:\u001b[0m \u001b[0mk\u001b[0m\u001b[0;34m+\u001b[0m\u001b[0mi\u001b[0m\u001b[0;34m}\u001b[0m\u001b[0;34m)\u001b[0m\u001b[0;34m\u001b[0m\u001b[0;34m\u001b[0m\u001b[0m\n\u001b[0;32m----> 9\u001b[0;31m    \u001b[0mchat\u001b[0m \u001b[0;34m=\u001b[0m \u001b[0mopenai\u001b[0m\u001b[0;34m.\u001b[0m\u001b[0mChatCompletion\u001b[0m\u001b[0;34m.\u001b[0m\u001b[0mcreate\u001b[0m\u001b[0;34m(\u001b[0m\u001b[0mmodel\u001b[0m\u001b[0;34m=\u001b[0m\u001b[0;34m\"gpt-3.5-turbo\"\u001b[0m\u001b[0;34m,\u001b[0m \u001b[0mmessages\u001b[0m\u001b[0;34m=\u001b[0m\u001b[0mmessages\u001b[0m\u001b[0;34m)\u001b[0m\u001b[0;34m\u001b[0m\u001b[0;34m\u001b[0m\u001b[0m\n\u001b[0m\u001b[1;32m     10\u001b[0m \u001b[0;34m\u001b[0m\u001b[0m\n\u001b[1;32m     11\u001b[0m    \u001b[0mreply\u001b[0m \u001b[0;34m=\u001b[0m \u001b[0mchat\u001b[0m\u001b[0;34m.\u001b[0m\u001b[0mchoices\u001b[0m\u001b[0;34m[\u001b[0m\u001b[0;36m0\u001b[0m\u001b[0;34m]\u001b[0m\u001b[0;34m.\u001b[0m\u001b[0mmessage\u001b[0m\u001b[0;34m.\u001b[0m\u001b[0mcontent\u001b[0m\u001b[0;34m\u001b[0m\u001b[0;34m\u001b[0m\u001b[0m\n",
            "\u001b[0;32m/usr/local/lib/python3.10/dist-packages/openai/api_resources/chat_completion.py\u001b[0m in \u001b[0;36mcreate\u001b[0;34m(cls, *args, **kwargs)\u001b[0m\n\u001b[1;32m     23\u001b[0m         \u001b[0;32mwhile\u001b[0m \u001b[0;32mTrue\u001b[0m\u001b[0;34m:\u001b[0m\u001b[0;34m\u001b[0m\u001b[0;34m\u001b[0m\u001b[0m\n\u001b[1;32m     24\u001b[0m             \u001b[0;32mtry\u001b[0m\u001b[0;34m:\u001b[0m\u001b[0;34m\u001b[0m\u001b[0;34m\u001b[0m\u001b[0m\n\u001b[0;32m---> 25\u001b[0;31m                 \u001b[0;32mreturn\u001b[0m \u001b[0msuper\u001b[0m\u001b[0;34m(\u001b[0m\u001b[0;34m)\u001b[0m\u001b[0;34m.\u001b[0m\u001b[0mcreate\u001b[0m\u001b[0;34m(\u001b[0m\u001b[0;34m*\u001b[0m\u001b[0margs\u001b[0m\u001b[0;34m,\u001b[0m \u001b[0;34m**\u001b[0m\u001b[0mkwargs\u001b[0m\u001b[0;34m)\u001b[0m\u001b[0;34m\u001b[0m\u001b[0;34m\u001b[0m\u001b[0m\n\u001b[0m\u001b[1;32m     26\u001b[0m             \u001b[0;32mexcept\u001b[0m \u001b[0mTryAgain\u001b[0m \u001b[0;32mas\u001b[0m \u001b[0me\u001b[0m\u001b[0;34m:\u001b[0m\u001b[0;34m\u001b[0m\u001b[0;34m\u001b[0m\u001b[0m\n\u001b[1;32m     27\u001b[0m                 \u001b[0;32mif\u001b[0m \u001b[0mtimeout\u001b[0m \u001b[0;32mis\u001b[0m \u001b[0;32mnot\u001b[0m \u001b[0;32mNone\u001b[0m \u001b[0;32mand\u001b[0m \u001b[0mtime\u001b[0m\u001b[0;34m.\u001b[0m\u001b[0mtime\u001b[0m\u001b[0;34m(\u001b[0m\u001b[0;34m)\u001b[0m \u001b[0;34m>\u001b[0m \u001b[0mstart\u001b[0m \u001b[0;34m+\u001b[0m \u001b[0mtimeout\u001b[0m\u001b[0;34m:\u001b[0m\u001b[0;34m\u001b[0m\u001b[0;34m\u001b[0m\u001b[0m\n",
            "\u001b[0;32m/usr/local/lib/python3.10/dist-packages/openai/api_resources/abstract/engine_api_resource.py\u001b[0m in \u001b[0;36mcreate\u001b[0;34m(cls, api_key, api_base, api_type, request_id, api_version, organization, **params)\u001b[0m\n\u001b[1;32m    153\u001b[0m         )\n\u001b[1;32m    154\u001b[0m \u001b[0;34m\u001b[0m\u001b[0m\n\u001b[0;32m--> 155\u001b[0;31m         response, _, api_key = requestor.request(\n\u001b[0m\u001b[1;32m    156\u001b[0m             \u001b[0;34m\"post\"\u001b[0m\u001b[0;34m,\u001b[0m\u001b[0;34m\u001b[0m\u001b[0;34m\u001b[0m\u001b[0m\n\u001b[1;32m    157\u001b[0m             \u001b[0murl\u001b[0m\u001b[0;34m,\u001b[0m\u001b[0;34m\u001b[0m\u001b[0;34m\u001b[0m\u001b[0m\n",
            "\u001b[0;32m/usr/local/lib/python3.10/dist-packages/openai/api_requestor.py\u001b[0m in \u001b[0;36mrequest\u001b[0;34m(self, method, url, params, headers, files, stream, request_id, request_timeout)\u001b[0m\n\u001b[1;32m    297\u001b[0m             \u001b[0mrequest_timeout\u001b[0m\u001b[0;34m=\u001b[0m\u001b[0mrequest_timeout\u001b[0m\u001b[0;34m,\u001b[0m\u001b[0;34m\u001b[0m\u001b[0;34m\u001b[0m\u001b[0m\n\u001b[1;32m    298\u001b[0m         )\n\u001b[0;32m--> 299\u001b[0;31m         \u001b[0mresp\u001b[0m\u001b[0;34m,\u001b[0m \u001b[0mgot_stream\u001b[0m \u001b[0;34m=\u001b[0m \u001b[0mself\u001b[0m\u001b[0;34m.\u001b[0m\u001b[0m_interpret_response\u001b[0m\u001b[0;34m(\u001b[0m\u001b[0mresult\u001b[0m\u001b[0;34m,\u001b[0m \u001b[0mstream\u001b[0m\u001b[0;34m)\u001b[0m\u001b[0;34m\u001b[0m\u001b[0;34m\u001b[0m\u001b[0m\n\u001b[0m\u001b[1;32m    300\u001b[0m         \u001b[0;32mreturn\u001b[0m \u001b[0mresp\u001b[0m\u001b[0;34m,\u001b[0m \u001b[0mgot_stream\u001b[0m\u001b[0;34m,\u001b[0m \u001b[0mself\u001b[0m\u001b[0;34m.\u001b[0m\u001b[0mapi_key\u001b[0m\u001b[0;34m\u001b[0m\u001b[0;34m\u001b[0m\u001b[0m\n\u001b[1;32m    301\u001b[0m \u001b[0;34m\u001b[0m\u001b[0m\n",
            "\u001b[0;32m/usr/local/lib/python3.10/dist-packages/openai/api_requestor.py\u001b[0m in \u001b[0;36m_interpret_response\u001b[0;34m(self, result, stream)\u001b[0m\n\u001b[1;32m    708\u001b[0m         \u001b[0;32melse\u001b[0m\u001b[0;34m:\u001b[0m\u001b[0;34m\u001b[0m\u001b[0;34m\u001b[0m\u001b[0m\n\u001b[1;32m    709\u001b[0m             return (\n\u001b[0;32m--> 710\u001b[0;31m                 self._interpret_response_line(\n\u001b[0m\u001b[1;32m    711\u001b[0m                     \u001b[0mresult\u001b[0m\u001b[0;34m.\u001b[0m\u001b[0mcontent\u001b[0m\u001b[0;34m.\u001b[0m\u001b[0mdecode\u001b[0m\u001b[0;34m(\u001b[0m\u001b[0;34m\"utf-8\"\u001b[0m\u001b[0;34m)\u001b[0m\u001b[0;34m,\u001b[0m\u001b[0;34m\u001b[0m\u001b[0;34m\u001b[0m\u001b[0m\n\u001b[1;32m    712\u001b[0m                     \u001b[0mresult\u001b[0m\u001b[0;34m.\u001b[0m\u001b[0mstatus_code\u001b[0m\u001b[0;34m,\u001b[0m\u001b[0;34m\u001b[0m\u001b[0;34m\u001b[0m\u001b[0m\n",
            "\u001b[0;32m/usr/local/lib/python3.10/dist-packages/openai/api_requestor.py\u001b[0m in \u001b[0;36m_interpret_response_line\u001b[0;34m(self, rbody, rcode, rheaders, stream)\u001b[0m\n\u001b[1;32m    773\u001b[0m         \u001b[0mstream_error\u001b[0m \u001b[0;34m=\u001b[0m \u001b[0mstream\u001b[0m \u001b[0;32mand\u001b[0m \u001b[0;34m\"error\"\u001b[0m \u001b[0;32min\u001b[0m \u001b[0mresp\u001b[0m\u001b[0;34m.\u001b[0m\u001b[0mdata\u001b[0m\u001b[0;34m\u001b[0m\u001b[0;34m\u001b[0m\u001b[0m\n\u001b[1;32m    774\u001b[0m         \u001b[0;32mif\u001b[0m \u001b[0mstream_error\u001b[0m \u001b[0;32mor\u001b[0m \u001b[0;32mnot\u001b[0m \u001b[0;36m200\u001b[0m \u001b[0;34m<=\u001b[0m \u001b[0mrcode\u001b[0m \u001b[0;34m<\u001b[0m \u001b[0;36m300\u001b[0m\u001b[0;34m:\u001b[0m\u001b[0;34m\u001b[0m\u001b[0;34m\u001b[0m\u001b[0m\n\u001b[0;32m--> 775\u001b[0;31m             raise self.handle_error_response(\n\u001b[0m\u001b[1;32m    776\u001b[0m                 \u001b[0mrbody\u001b[0m\u001b[0;34m,\u001b[0m \u001b[0mrcode\u001b[0m\u001b[0;34m,\u001b[0m \u001b[0mresp\u001b[0m\u001b[0;34m.\u001b[0m\u001b[0mdata\u001b[0m\u001b[0;34m,\u001b[0m \u001b[0mrheaders\u001b[0m\u001b[0;34m,\u001b[0m \u001b[0mstream_error\u001b[0m\u001b[0;34m=\u001b[0m\u001b[0mstream_error\u001b[0m\u001b[0;34m\u001b[0m\u001b[0;34m\u001b[0m\u001b[0m\n\u001b[1;32m    777\u001b[0m             )\n",
            "\u001b[0;31mAPIError\u001b[0m: Bad gateway. {\"error\":{\"code\":502,\"message\":\"Bad gateway.\",\"param\":null,\"type\":\"cf_bad_gateway\"}} 502 {'error': {'code': 502, 'message': 'Bad gateway.', 'param': None, 'type': 'cf_bad_gateway'}} {'Date': 'Sun, 19 Nov 2023 16:39:29 GMT', 'Content-Type': 'application/json', 'Content-Length': '84', 'Connection': 'keep-alive', 'X-Frame-Options': 'SAMEORIGIN', 'Referrer-Policy': 'same-origin', 'Cache-Control': 'private, max-age=0, no-store, no-cache, must-revalidate, post-check=0, pre-check=0', 'Expires': 'Thu, 01 Jan 1970 00:00:01 GMT', 'Server': 'cloudflare', 'CF-RAY': '8289d5115ff607fd-IAD', 'alt-svc': 'h3=\":443\"; ma=86400'}"
          ]
        }
      ]
    },
    {
      "cell_type": "code",
      "source": [],
      "metadata": {
        "id": "tMX0Zx5pXRfL"
      },
      "execution_count": null,
      "outputs": []
    }
  ]
}